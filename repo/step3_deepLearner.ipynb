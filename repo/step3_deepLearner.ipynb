{
 "cells": [
  {
   "cell_type": "code",
   "execution_count": 8,
   "metadata": {
    "scrolled": true
   },
   "outputs": [
    {
     "name": "stderr",
     "output_type": "stream",
     "text": [
      "Warning message in install.packages(\"xgboost\"):\n",
      "“installation of package ‘xgboost’ had non-zero exit status”Updating HTML index of packages in '.Library'\n",
      "Making 'packages.html' ... done\n"
     ]
    }
   ],
   "source": [
    "install.packages(\"xgboost\")"
   ]
  },
  {
   "cell_type": "code",
   "execution_count": 1,
   "metadata": {},
   "outputs": [
    {
     "name": "stderr",
     "output_type": "stream",
     "text": [
      "Warning message:\n",
      "“'memory.limit()' is Windows-specific”"
     ]
    },
    {
     "data": {
      "text/html": [
       "Inf"
      ],
      "text/latex": [
       "Inf"
      ],
      "text/markdown": [
       "Inf"
      ],
      "text/plain": [
       "[1] Inf"
      ]
     },
     "metadata": {},
     "output_type": "display_data"
    }
   ],
   "source": [
    "memory.limit()"
   ]
  },
  {
   "cell_type": "code",
   "execution_count": 3,
   "metadata": {},
   "outputs": [],
   "source": [
    "#install.packages(c(\"keras\",\"ramify\"))\n",
    "library(ramify)\n",
    "library(cleanNLP)\n",
    "library(rJava)\n",
    "library(plyr)\n",
    "library(dplyr)\n",
    "library(magrittr)\n",
    "library(readxl)\n",
    "library(stringr)\n",
    "library(readr)\n",
    "library(glue)\n",
    "library(e1071)\n",
    "library(forcats)\n",
    "library(tidyverse)\n",
    "library(fastDummies)\n",
    "library(caret)\n",
    "library(purrr)\n",
    "#library(xgboost)\n",
    "library(keras)\n",
    "library(data.table)\n",
    "library(tensorflow)"
   ]
  },
  {
   "cell_type": "code",
   "execution_count": 4,
   "metadata": {},
   "outputs": [],
   "source": [
    "use_boosting <- TRUE\n",
    "# use_boosting <- FALSE\n",
    "set.seed(2020)"
   ]
  },
  {
   "cell_type": "markdown",
   "metadata": {},
   "source": [
    "# Change dimensions and cbind 47480,768"
   ]
  },
  {
   "cell_type": "code",
   "execution_count": 5,
   "metadata": {},
   "outputs": [
    {
     "name": "stdout",
     "output_type": "stream",
     "text": [
      "[1] \"data size:\" \"9496\"       \"10979\"      \"36464640\"   \"1\"         \n"
     ]
    }
   ],
   "source": [
    "# load data\n",
    "### df is the text features (tfidf?), but also the main thing that gets trained\n",
    "### sample is actually the core data, with the text labels, but is only used at the end reporting accuracy etc\n",
    "sample <- data.frame(fread(\"/Users/abhijit/IGRI/data/step1_data_sample.csv\"))\n",
    "embeddings <- data.frame(fread(\"/Users/abhijit/IGRI/data/step1_embedding_features.csv\"))\n",
    "df <- data.frame(fread(\"/Users/abhijit/IGRI/data/step1_data_df.csv\"))\n",
    "print(c(\"data size:\", dim(df), dim(embeddings)))\n"
   ]
  },
  {
   "cell_type": "code",
   "execution_count": null,
   "metadata": {},
   "outputs": [],
   "source": [
    "df <- cbind(df, embeddings)"
   ]
  },
  {
   "cell_type": "code",
   "execution_count": 1,
   "metadata": {},
   "outputs": [
    {
     "data": {
      "text/plain": [
       "                                              \n",
       "1 function (x, df1, df2, ncp, log = FALSE)    \n",
       "2 {                                           \n",
       "3     if (missing(ncp))                       \n",
       "4         .Call(C_df, x, df1, df2, log)       \n",
       "5     else .Call(C_dnf, x, df1, df2, ncp, log)\n",
       "6 }                                           "
      ]
     },
     "metadata": {},
     "output_type": "display_data"
    }
   ],
   "source": [
    "head(df)"
   ]
  },
  {
   "cell_type": "code",
   "execution_count": null,
   "metadata": {},
   "outputs": [],
   "source": []
  }
 ],
 "metadata": {
  "kernelspec": {
   "display_name": "R [conda env:ig] *",
   "language": "R",
   "name": "conda-env-ig-r"
  },
  "language_info": {
   "codemirror_mode": "r",
   "file_extension": ".r",
   "mimetype": "text/x-r-source",
   "name": "R",
   "pygments_lexer": "r",
   "version": "3.6.1"
  }
 },
 "nbformat": 4,
 "nbformat_minor": 4
}
