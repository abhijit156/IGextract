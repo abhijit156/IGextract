{
 "cells": [
  {
   "cell_type": "code",
   "execution_count": null,
   "metadata": {
    "scrolled": true
   },
   "outputs": [],
   "source": [
    "curl https://sh.rustup.rs -sSf | sh"
   ]
  },
  {
   "cell_type": "code",
   "execution_count": null,
   "metadata": {},
   "outputs": [],
   "source": [
    "import sys\n",
    "!{sys.executable} -m pip install transformers==3.0.0"
   ]
  },
  {
   "cell_type": "code",
   "execution_count": null,
   "metadata": {},
   "outputs": [],
   "source": [
    "import pandas as pd"
   ]
  },
  {
   "cell_type": "code",
   "execution_count": 1,
   "metadata": {},
   "outputs": [],
   "source": [
    "import numpy as np\n",
    "import pandas as pd\n",
    "from scipy.spatial.distance import cosine\n",
    "from sklearn.model_selection import train_test_split\n",
    "from sklearn.linear_model import LogisticRegression\n",
    "from sklearn.model_selection import GridSearchCV\n",
    "from sklearn.model_selection import cross_val_score\n",
    "import torch\n",
    "import transformers as ppb\n",
    "import warnings\n",
    "warnings.filterwarnings('ignore')\n",
    "import itertools"
   ]
  },
  {
   "cell_type": "code",
   "execution_count": 2,
   "metadata": {},
   "outputs": [
    {
     "name": "stdout",
     "output_type": "stream",
     "text": [
      "Load data\n",
      "[328 329 330 331 332 333 334 335 336 337 338 339 340 341 342 343 344 345\n",
      " 347 349 350 351 352 353 354 355 356 357 358 359 360 361 362 363 364 365\n",
      " 366 367 368 369 370 371 372 383 384 385 386 387 388 389 390 391 392 393\n",
      " 394 395 396 397 398 399 400 401 402 403 404 405 406 407 408 414 415 416\n",
      " 417 418 419 420 421 422 423 424 425 426 427 428 429 431 432 433 434 435\n",
      " 436 437 439 441 442 443 444 445 447 448 449 450 451 452 453 454 455 456\n",
      " 457 458 459 460 461 462 464 465 466 467 468 469 470 471 472 473 474 475\n",
      " 476 477 478 479 480 481 482 483 484 485 486 487 488 489 490 491 492 493\n",
      " 494 495 496 497 498 499 500 501 502 503 504 505 506 507 508 509 510 511\n",
      " 512 513 514 515 518 519 520 521 522 523 524 525 526 528 529 531 533 534\n",
      " 536 538 539 541 543 545 547 549 550 552 553 555 556 557 558 559 560 561\n",
      " 562 563 564 565 566 567 568 569 570 571 572 573 574 575 576 577 578 579\n",
      " 584 585 586 587 588 589 590 591 592 593 594 595 596 597 598 599 601 602\n",
      " 603 604 605 606 607 608 609 610 611 612 613 614 615 616 617 618 619 620\n",
      " 621 623 624 625 626 627 628 629 630 631 632 633 634 636 637 638 639 640\n",
      " 641 642 643 644 645 646 648 649 650 652 654 656 658 660 661 662 664 666\n",
      " 668 670 672 674 676 678 680 682 684 686 687 688 689 690 715 716 718 720\n",
      " 722 724 725 726 727 728 729 730 731 732 733 734 735 736 737 738 739 740\n",
      " 741 742 743 744 745 746 747 750 751 753 754 755 756 757 758 759 760 761\n",
      " 762 763 764 765 766 767 768 769 770 771 773 774 775 776 777 778 779 780\n",
      " 781 782 783 784 785 786 787 788 789 790 791 792 794 795 796 797 798 799\n",
      " 800 801 802 803 804 805 806 807 808 809 810 811 812 813 814 815 816 817\n",
      " 818 820 821 822 823 825 826 828 829 831 833 834 835 836 837 838 839 840\n",
      " 845 846 847 848 849 850 851 852 853 854 856 857 858 859 860 861 862 863\n",
      " 864 865 866 867 868 869 870 871 873 875 877 879 881 883 885 887]\n"
     ]
    }
   ],
   "source": [
    "#chunk data by statements to avoid RAM overflow\n",
    "print(\"Load data\")\n",
    "all_data = pd.read_csv(\"/Users/abhijit/IGRI Files/repo/step1_edit_data_sample.csv\")\n",
    "statements = all_data.groupby('sid')\n",
    "sid = all_data['sid'].unique()\n",
    "print(sid)\n",
    "all_features = []"
   ]
  },
  {
   "cell_type": "code",
   "execution_count": 3,
   "metadata": {},
   "outputs": [
    {
     "name": "stdout",
     "output_type": "stream",
     "text": [
      "Load model\n",
      "Model: distilbert-base-uncased\n"
     ]
    }
   ],
   "source": [
    "# Pretrained model\n",
    "print(\"Load model\")\n",
    "# For DistilBERT:\n",
    "print( \"Model: distilbert-base-uncased\")\n",
    "model_class, tokenizer_class, pretrained_weights = (ppb.DistilBertModel, ppb.DistilBertTokenizer, 'distilbert-base-uncased')"
   ]
  },
  {
   "cell_type": "code",
   "execution_count": 4,
   "metadata": {},
   "outputs": [],
   "source": [
    "tokenizer = tokenizer_class.from_pretrained(pretrained_weights)\n",
    "model = model_class.from_pretrained(pretrained_weights)\n"
   ]
  },
  {
   "cell_type": "code",
   "execution_count": 5,
   "metadata": {},
   "outputs": [
    {
     "name": "stdout",
     "output_type": "stream",
     "text": [
      "328\n",
      "           0  sid                                           sid_text  tid  \\\n",
      "0        and  328  the voting members of the board shall be compr...   12   \n",
      "1  residents  328  the voting members of the board shall be compr...   11   \n",
      "2         of  328  the voting members of the board shall be compr...   10   \n",
      "3      board  328  the voting members of the board shall be compr...    6   \n",
      "4         of  328  the voting members of the board shall be compr...    4   \n",
      "\n",
      "           1  2  \n",
      "0     Object  4  \n",
      "1     Object  4  \n",
      "2        Aim  0  \n",
      "3  Attribute  1  \n",
      "4  Attribute  1  \n",
      "Prep data\n",
      "0     [the, voting, members, of, the, board, shall, ...\n",
      "1     [the, voting, members, of, the, board, shall, ...\n",
      "2     [the, voting, members, of, the, board, shall, ...\n",
      "3     [the, voting, members, of, the, board, shall, ...\n",
      "4     [the, voting, members, of, the, board, shall, ...\n",
      "5     [the, voting, members, of, the, board, shall, ...\n",
      "6     [the, voting, members, of, the, board, shall, ...\n",
      "7     [the, voting, members, of, the, board, shall, ...\n",
      "8     [the, voting, members, of, the, board, shall, ...\n",
      "9     [the, voting, members, of, the, board, shall, ...\n",
      "10    [the, voting, members, of, the, board, shall, ...\n",
      "11    [the, voting, members, of, the, board, shall, ...\n",
      "12    [the, voting, members, of, the, board, shall, ...\n",
      "13    [the, voting, members, of, the, board, shall, ...\n",
      "14    [the, voting, members, of, the, board, shall, ...\n",
      "15    [the, voting, members, of, the, board, shall, ...\n",
      "16    [the, voting, members, of, the, board, shall, ...\n",
      "17    [the, voting, members, of, the, board, shall, ...\n",
      "Name: sid_text, dtype: object\n",
      "0     [101, 1996, 6830, 2372, 1997, 1996, 2604, 4618...\n",
      "1     [101, 1996, 6830, 2372, 1997, 1996, 2604, 4618...\n",
      "2     [101, 1996, 6830, 2372, 1997, 1996, 2604, 4618...\n",
      "3     [101, 1996, 6830, 2372, 1997, 1996, 2604, 4618...\n",
      "4     [101, 1996, 6830, 2372, 1997, 1996, 2604, 4618...\n",
      "5     [101, 1996, 6830, 2372, 1997, 1996, 2604, 4618...\n",
      "6     [101, 1996, 6830, 2372, 1997, 1996, 2604, 4618...\n",
      "7     [101, 1996, 6830, 2372, 1997, 1996, 2604, 4618...\n",
      "8     [101, 1996, 6830, 2372, 1997, 1996, 2604, 4618...\n",
      "9     [101, 1996, 6830, 2372, 1997, 1996, 2604, 4618...\n",
      "10    [101, 1996, 6830, 2372, 1997, 1996, 2604, 4618...\n",
      "11    [101, 1996, 6830, 2372, 1997, 1996, 2604, 4618...\n",
      "12    [101, 1996, 6830, 2372, 1997, 1996, 2604, 4618...\n",
      "13    [101, 1996, 6830, 2372, 1997, 1996, 2604, 4618...\n",
      "14    [101, 1996, 6830, 2372, 1997, 1996, 2604, 4618...\n",
      "15    [101, 1996, 6830, 2372, 1997, 1996, 2604, 4618...\n",
      "16    [101, 1996, 6830, 2372, 1997, 1996, 2604, 4618...\n",
      "17    [101, 1996, 6830, 2372, 1997, 1996, 2604, 4618...\n",
      "Name: sid_text, dtype: object\n",
      "['the', 'voting', 'members', 'of', 'the', 'board', 'shall', 'be', 'comprised', 'of', 'residents', 'and', 'former', 'residents', 'of', 'the', 'city', 'of', 'camden']\n",
      "  check padding:  (18, 21)\n",
      "  check mask: (18, 21)\n",
      "DEP FEATS ['and', 328, 'the voting members of the board shall be comprised of residents and former residents of the city of camden', 12, 'Object', 4, -1]\n",
      "TOKEN INDEX [False False False False False False False False False False False  True\n",
      " False False False False False False False]\n",
      "BERTID [11]\n",
      "DEP FEATS ['residents', 328, 'the voting members of the board shall be comprised of residents and former residents of the city of camden', 11, 'Object', 4, -1]\n",
      "TOKEN INDEX [False False False False False False False False False False  True False\n",
      " False  True False False False False False]\n",
      "BERTID [10, 13]\n",
      "residents [[11]] [10, 13]\n",
      "DEP FEATS ['of', 328, 'the voting members of the board shall be comprised of residents and former residents of the city of camden', 10, 'Aim', 0, -1]\n",
      "TOKEN INDEX [False False False  True False False False False False  True False False\n",
      " False False  True False False  True False]\n",
      "BERTID [3, 9, 14, 17]\n",
      "of [[11], [13]] [3, 9, 14, 17]\n",
      "DEP FEATS ['board', 328, 'the voting members of the board shall be comprised of residents and former residents of the city of camden', 6, 'Attribute', 1, -1]\n",
      "TOKEN INDEX [False False False False False  True False False False False False False\n",
      " False False False False False False False]\n",
      "BERTID [5]\n",
      "board [[11], [13], [14, 17]] [5]\n"
     ]
    },
    {
     "ename": "ValueError",
     "evalue": "max() arg is an empty sequence",
     "output_type": "error",
     "traceback": [
      "\u001b[0;31m---------------------------------------------------------------------------\u001b[0m",
      "\u001b[0;31mValueError\u001b[0m                                Traceback (most recent call last)",
      "\u001b[0;32m<ipython-input-5-16fd19de0dc4>\u001b[0m in \u001b[0;36m<module>\u001b[0;34m()\u001b[0m\n\u001b[1;32m     66\u001b[0m         \u001b[0;31m#less than maximum possible indices of next pos\u001b[0m\u001b[0;34m\u001b[0m\u001b[0;34m\u001b[0m\u001b[0;34m\u001b[0m\u001b[0m\n\u001b[1;32m     67\u001b[0m         \u001b[0;31m# max_ = min(min(elem),max(bertid)) #min(list(itertools.chain.from_iterable(bertids[index:])))\u001b[0m\u001b[0;34m\u001b[0m\u001b[0;34m\u001b[0m\u001b[0;34m\u001b[0m\u001b[0m\n\u001b[0;32m---> 68\u001b[0;31m         \u001b[0mbertids_\u001b[0m\u001b[0;34m.\u001b[0m\u001b[0mappend\u001b[0m\u001b[0;34m(\u001b[0m\u001b[0mlist\u001b[0m\u001b[0;34m(\u001b[0m\u001b[0mfilter\u001b[0m\u001b[0;34m(\u001b[0m\u001b[0;32mlambda\u001b[0m \u001b[0mx\u001b[0m\u001b[0;34m:\u001b[0m \u001b[0mx\u001b[0m \u001b[0;34m<\u001b[0m \u001b[0mmax\u001b[0m\u001b[0;34m(\u001b[0m\u001b[0mbertid\u001b[0m\u001b[0;34m)\u001b[0m\u001b[0;34m,\u001b[0m\u001b[0melem\u001b[0m\u001b[0;34m)\u001b[0m\u001b[0;34m)\u001b[0m\u001b[0;34m)\u001b[0m\u001b[0;34m\u001b[0m\u001b[0;34m\u001b[0m\u001b[0m\n\u001b[0m\u001b[1;32m     69\u001b[0m       \u001b[0mbertids\u001b[0m \u001b[0;34m=\u001b[0m \u001b[0mbertids_\u001b[0m\u001b[0;34m.\u001b[0m\u001b[0mcopy\u001b[0m\u001b[0;34m(\u001b[0m\u001b[0;34m)\u001b[0m\u001b[0;34m\u001b[0m\u001b[0;34m\u001b[0m\u001b[0m\n\u001b[1;32m     70\u001b[0m \u001b[0;34m\u001b[0m\u001b[0m\n",
      "\u001b[0;32m<ipython-input-5-16fd19de0dc4>\u001b[0m in \u001b[0;36m<lambda>\u001b[0;34m(x)\u001b[0m\n\u001b[1;32m     66\u001b[0m         \u001b[0;31m#less than maximum possible indices of next pos\u001b[0m\u001b[0;34m\u001b[0m\u001b[0;34m\u001b[0m\u001b[0;34m\u001b[0m\u001b[0m\n\u001b[1;32m     67\u001b[0m         \u001b[0;31m# max_ = min(min(elem),max(bertid)) #min(list(itertools.chain.from_iterable(bertids[index:])))\u001b[0m\u001b[0;34m\u001b[0m\u001b[0;34m\u001b[0m\u001b[0;34m\u001b[0m\u001b[0m\n\u001b[0;32m---> 68\u001b[0;31m         \u001b[0mbertids_\u001b[0m\u001b[0;34m.\u001b[0m\u001b[0mappend\u001b[0m\u001b[0;34m(\u001b[0m\u001b[0mlist\u001b[0m\u001b[0;34m(\u001b[0m\u001b[0mfilter\u001b[0m\u001b[0;34m(\u001b[0m\u001b[0;32mlambda\u001b[0m \u001b[0mx\u001b[0m\u001b[0;34m:\u001b[0m \u001b[0mx\u001b[0m \u001b[0;34m<\u001b[0m \u001b[0mmax\u001b[0m\u001b[0;34m(\u001b[0m\u001b[0mbertid\u001b[0m\u001b[0;34m)\u001b[0m\u001b[0;34m,\u001b[0m\u001b[0melem\u001b[0m\u001b[0;34m)\u001b[0m\u001b[0;34m)\u001b[0m\u001b[0;34m)\u001b[0m\u001b[0;34m\u001b[0m\u001b[0;34m\u001b[0m\u001b[0m\n\u001b[0m\u001b[1;32m     69\u001b[0m       \u001b[0mbertids\u001b[0m \u001b[0;34m=\u001b[0m \u001b[0mbertids_\u001b[0m\u001b[0;34m.\u001b[0m\u001b[0mcopy\u001b[0m\u001b[0;34m(\u001b[0m\u001b[0;34m)\u001b[0m\u001b[0;34m\u001b[0m\u001b[0;34m\u001b[0m\u001b[0m\n\u001b[1;32m     70\u001b[0m \u001b[0;34m\u001b[0m\u001b[0m\n",
      "\u001b[0;31mValueError\u001b[0m: max() arg is an empty sequence"
     ]
    }
   ],
   "source": [
    "for statement_no in sid:\n",
    "  print(statement_no)\n",
    "  df = statements.get_group(statement_no)\n",
    "  df = df.rename(columns=dict(zip(df.columns,[0, \"sid\", \"sid_text\",\"tid\",1,2])))\n",
    "  #print(df.shape)\n",
    "  #batch_1 = df[:2000].reset_index()\n",
    "  ### clean up sentences to preempt tokenization problems\n",
    "  ### this is all effort to make the space tokenization look more like the bert tokenization, especially special handling of ellipses and hypthens\n",
    "  print(df.head(5))\n",
    "  df = df.assign(sid_text=df['sid_text'].apply(\n",
    "      lambda x:x.lower().replace('-lrb-', '[').replace('-rrb-', ']').replace('...', '<ELLIPSES>').replace('.', '').replace( '<ELLIPSES>', '...').replace(' - ', ' , ').replace('-', '').replace('  ', ' ').strip()\n",
    "      ))\n",
    "  #df = df.assign(sid_text_old=df['sid_text'])\n",
    "  #df = df.assign(sid_text=df['sid_text'].apply(\n",
    "      #lambda x:x.lower().replace('.', '').replace('-', '').replace('  ', ' ').replace('root ', '').strip()\n",
    "      #))\n",
    "\n",
    "  batch_1 = df\n",
    "  batch_1[1].value_counts()\n",
    "\n",
    "  print(\"Prep data\")\n",
    "  # Tokenization\n",
    "  tokenized_raw = batch_1['sid_text'].apply((lambda x: tokenizer.tokenize(x)))\n",
    "  tokenized = batch_1['sid_text'].apply((lambda x: tokenizer.encode(x, add_special_tokens=True)))\n",
    "  tokens_ = tokenized_raw.tolist()[0]\n",
    "\n",
    "  print(tokenized_raw)\n",
    "  print(tokenized)\n",
    "  print(tokens_)\n",
    "\n",
    "  # Padding\n",
    "  max_len = 0\n",
    "  for i in tokenized.values:\n",
    "    if len(i) > max_len:\n",
    "      max_len = len(i)\n",
    "      \n",
    "  padded = np.array([i + [0]*(max_len-len(i)) for i in tokenized.values])\n",
    "\n",
    "  print(\"  check padding: \", np.array(padded).shape)\n",
    "\n",
    "  # Masking\n",
    "  attention_mask = np.where(padded != 0, 1, 0)\n",
    "  print(\"  check mask:\", attention_mask.shape)\n",
    "\n",
    "  bertids = []\n",
    "  # Implementing/Checking sentence merge\n",
    "  df = df.assign(bertid=-1) \n",
    "\n",
    "  for s, _ in df.iterrows():\n",
    "    dep_feats = df.loc[s].values.tolist() # labeled token and its metadata\n",
    "\n",
    "    print('DEP FEATS ' + str(dep_feats))\n",
    "    word = dep_feats[0].replace('-','').replace('.', '').replace('LRB', '[').replace('RRB', ']').lower() #.partition('/')[0]\n",
    "    \n",
    "    tok_index = np.array([True if word.startswith(elem) else False for x,elem in enumerate(tokens_)])\n",
    "    bertid = np.argwhere(tok_index).ravel().tolist()\n",
    "    print(\"TOKEN INDEX \" + str(tok_index))\n",
    "    print(\"BERTID \" + str(bertid))\n",
    "    \n",
    "    if len(bertids):\n",
    "      bertids_ = []\n",
    "      #greater than minimum possible indices of previous pos\n",
    "      print(word,bertids,bertid)\n",
    "      bertid = list(filter(lambda x: x > max([min(elem) for elem in (bertids)]),bertid))\n",
    "      for index,elem in enumerate(bertids): \n",
    "        #less than maximum possible indices of next pos\n",
    "        # max_ = min(min(elem),max(bertid)) #min(list(itertools.chain.from_iterable(bertids[index:])))\n",
    "        bertids_.append(list(filter(lambda x: x < max(bertid),elem)))\n",
    "      bertids = bertids_.copy()\n",
    "\n",
    "    #   bertids.append(temp)\n",
    "    # else:\n",
    "    bertids.append(bertid)\n",
    "\n",
    "  bertids = [x[0] for x in bertids]; bertids.sort()\n",
    "  print(\"BERTIDS 1 \" + str(bertids))\n",
    "  # combs = list(itertools.product(*bertids))\n",
    "  # bertids = []\n",
    "  # for order in combs:\n",
    "  #   order = list(order)\n",
    "  #   if len(tokenized_raw) == len(set(order)): bertids = order\n",
    "\n",
    "  bertids.sort(); print(\"BERTIDS 2 \" + str(bertids))\n",
    "  df[\"bertid\"] = bertids\n",
    "  print(\"Get embeddings (this is the slow part seems)\")\n",
    "  # Querying the model\n",
    "  input_ids = torch.tensor(padded)  \n",
    "  attention_mask = torch.tensor(attention_mask)\n",
    "\n",
    "  #print(df)\n",
    "  with torch.no_grad():\n",
    "    last_hidden_states, hidden_states = model(input_ids, attention_mask=attention_mask, output_hidden_states=True)\n",
    "\n",
    "  nwords = hidden_states[0].shape[0]\n",
    "  nsentidxs = hidden_states[0].shape[1]\n",
    "  nfeats = hidden_states[0].shape[2]\n",
    "    \n",
    "  print(\"NWORDS \" + str(nwords))\n",
    "  print(\"NSENT ID \" + str(nsentidxs))\n",
    "  print(\"NFEATS \" + str(nfeats))\n",
    "  #print(\"SHAPE \" + np.array(hidden_states).shape)\n",
    "  print(\"MAX LENGTH \" + str(max_len))\n",
    "  ### save costly output\n",
    "  torch.save(hidden_states, \"/Users/abhijit/IGRI Files/repo/step25_hidden_states.pt\")\n",
    "  #torch.load(\"data/step25_hidden_states20201129rice_orig_filtering.pt\")\n",
    "  #torch.load(\"data/step25_hidden_states_20201129frey_less_filtering.pt)\n",
    "  #torch.load(\"data/step25_hidden_states.pt\")\n",
    "\n",
    "  if False: # get last layer\n",
    "    features = last_hidden_states[:,1,:].numpy()\n",
    "  if False: # get last layer, by word\n",
    "    mask = torch.tensor([[[v,]*nfeats,] for v in df.bertid])\n",
    "    features = torch.gather(hidden_states[6][:,:,:], 1, mask)\n",
    "    ### get to right dimensionality and type\n",
    "    features  = features[:,0,:].numpy()\n",
    "    ### tested picking out with this line\n",
    "    ###  torch.gather(hidden_states[6][::50,:,0], 1, torch.tensor([[v%169,] for v in range(172)]))[-10:]\n",
    "  if True: # get word embeddings for last four layers plus whole sentence embedding, last layer\n",
    "    mask = torch.tensor([[[v,]*nfeats,] for v in df.bertid])\n",
    "    features = np.concatenate((\n",
    "                              hidden_states[6][:,0,:].numpy(),\n",
    "                              torch.gather(hidden_states[6][:,:,:], 1, mask)[:,0,:].numpy(),\n",
    "                              torch.gather(hidden_states[5][:,:,:], 1, mask)[:,0,:].numpy(),\n",
    "                              torch.gather(hidden_states[4][:,:,:], 1, mask)[:,0,:].numpy(),\n",
    "                              torch.gather(hidden_states[3][:,:,:], 1, mask)[:,0,:].numpy()\n",
    "                            ),\n",
    "                            axis=1)\n",
    "\n",
    "\n",
    "  # sanity check model output format\n",
    "  assert( np.all(hidden_states[-1].numpy() == last_hidden_states[:,:,:].numpy()) )\n",
    "  labels = batch_1[1]\n",
    "  all_features.append(features)"
   ]
  },
  {
   "cell_type": "code",
   "execution_count": null,
   "metadata": {},
   "outputs": [],
   "source": [
    "print (\"Number of layers:\", len(hidden_states), \"  (initial embeddings + 12 BERT layers)\")\n",
    "layer_i = 0\n",
    "print (\"Number of batches:\", len(hidden_states[layer_i]))\n",
    "batch_i = 0\n",
    "print (\"Number of tokens:\", len(hidden_states[layer_i][batch_i]))\n",
    "token_i = 0\n",
    "print (\"Number of hidden units:\", len(hidden_states[layer_i][batch_i][token_i]))"
   ]
  },
  {
   "cell_type": "code",
   "execution_count": null,
   "metadata": {},
   "outputs": [],
   "source": [
    "(hidden_states[0]).shape"
   ]
  },
  {
   "cell_type": "code",
   "execution_count": null,
   "metadata": {},
   "outputs": [],
   "source": [
    "len((all_features)[420][4])\n",
    "#len(all_data['sid'].unique())"
   ]
  },
  {
   "cell_type": "code",
   "execution_count": null,
   "metadata": {
    "scrolled": false
   },
   "outputs": [],
   "source": [
    "(all_features[0])"
   ]
  },
  {
   "cell_type": "code",
   "execution_count": null,
   "metadata": {
    "scrolled": true
   },
   "outputs": [],
   "source": [
    "all_features = np.concatenate(all_features,axis=0);print(\"Embeds produced: \",all_features.shape)\n",
    "np.savetxt(\"/Users/abhijit/IGRI Files/repo/step1_edit_embedding_features.csv\", all_features, delimiter=\",\", header=\",\".join(map(str,range(features.shape[1]))))\n"
   ]
  },
  {
   "cell_type": "code",
   "execution_count": null,
   "metadata": {},
   "outputs": [],
   "source": []
  },
  {
   "cell_type": "code",
   "execution_count": null,
   "metadata": {},
   "outputs": [],
   "source": []
  }
 ],
 "metadata": {
  "kernelspec": {
   "display_name": "Python [conda env:miniconda3-ig]",
   "language": "python",
   "name": "conda-env-miniconda3-ig-py"
  },
  "language_info": {
   "codemirror_mode": {
    "name": "ipython",
    "version": 3
   },
   "file_extension": ".py",
   "mimetype": "text/x-python",
   "name": "python",
   "nbconvert_exporter": "python",
   "pygments_lexer": "ipython3",
   "version": "3.6.10"
  }
 },
 "nbformat": 4,
 "nbformat_minor": 4
}
