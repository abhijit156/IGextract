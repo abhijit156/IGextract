{
 "cells": [
  {
   "cell_type": "code",
   "execution_count": 4,
   "id": "e212a76b",
   "metadata": {},
   "outputs": [
    {
     "name": "stdout",
     "output_type": "stream",
     "text": [
      "Collecting package metadata (current_repodata.json): done\n",
      "Solving environment: failed with initial frozen solve. Retrying with flexible solve.\n",
      "Solving environment: failed with repodata from current_repodata.json, will retry with next repodata source.\n",
      "Collecting package metadata (repodata.json): done\n",
      "Solving environment: done\n",
      "\n",
      "\n",
      "==> WARNING: A newer version of conda exists. <==\n",
      "  current version: 4.11.0\n",
      "  latest version: 4.13.0\n",
      "\n",
      "Please update conda by running\n",
      "\n",
      "    $ conda update -n base conda\n",
      "\n",
      "\n",
      "\n",
      "## Package Plan ##\n",
      "\n",
      "  environment location: /Users/abhijit/miniforge3/envs/tensorflow\n",
      "\n",
      "  added / updated specs:\n",
      "    - stanza\n",
      "\n",
      "\n",
      "The following packages will be downloaded:\n",
      "\n",
      "    package                    |            build\n",
      "    ---------------------------|-----------------\n",
      "    ca-certificates-2022.07.19 |       hca03da5_0         124 KB\n",
      "    certifi-2022.6.15          |   py39hca03da5_0         153 KB\n",
      "    emoji-1.7.0                |     pyhd8ed1ab_0         128 KB  conda-forge\n",
      "    filelock-3.6.0             |     pyhd3eb1b0_0          12 KB\n",
      "    huggingface_hub-0.2.1      |     pyhd3eb1b0_0          52 KB\n",
      "    importlib_metadata-4.10.1  |       hd8ed1ab_0           4 KB  conda-forge\n",
      "    ninja-1.10.2               |       hca03da5_5           9 KB\n",
      "    ninja-base-1.10.2          |       h525c30c_5         108 KB\n",
      "    openssl-1.1.1q             |       h1a28f6b_0         2.2 MB\n",
      "    pytorch-1.10.2             |cpu_py39h23cb94c_0        30.6 MB\n",
      "    sacremoses-0.0.43          |     pyhd3eb1b0_0         284 KB\n",
      "    stanza-1.4.0               |     pyhd8ed1ab_0         392 KB  conda-forge\n",
      "    tokenizers-0.11.4          |   py39h5c5695e_1         2.5 MB\n",
      "    transformers-4.18.0        |   py39hca03da5_0         2.9 MB\n",
      "    typing-extensions-3.7.4.3  |                0          12 KB\n",
      "    ------------------------------------------------------------\n",
      "                                           Total:        39.5 MB\n",
      "\n",
      "The following NEW packages will be INSTALLED:\n",
      "\n",
      "  emoji              conda-forge/noarch::emoji-1.7.0-pyhd8ed1ab_0\n",
      "  filelock           pkgs/main/noarch::filelock-3.6.0-pyhd3eb1b0_0\n",
      "  future             pkgs/main/osx-arm64::future-0.18.2-py39hca03da5_1\n",
      "  huggingface_hub    pkgs/main/noarch::huggingface_hub-0.2.1-pyhd3eb1b0_0\n",
      "  importlib_metadata conda-forge/noarch::importlib_metadata-4.10.1-hd8ed1ab_0\n",
      "  ninja              pkgs/main/osx-arm64::ninja-1.10.2-hca03da5_5\n",
      "  ninja-base         pkgs/main/osx-arm64::ninja-base-1.10.2-h525c30c_5\n",
      "  pytorch            pkgs/main/osx-arm64::pytorch-1.10.2-cpu_py39h23cb94c_0\n",
      "  sacremoses         pkgs/main/noarch::sacremoses-0.0.43-pyhd3eb1b0_0\n",
      "  stanza             conda-forge/noarch::stanza-1.4.0-pyhd8ed1ab_0\n",
      "  tokenizers         pkgs/main/osx-arm64::tokenizers-0.11.4-py39h5c5695e_1\n",
      "  transformers       pkgs/main/osx-arm64::transformers-4.18.0-py39hca03da5_0\n",
      "  typing-extensions  pkgs/main/noarch::typing-extensions-3.7.4.3-0\n",
      "\n",
      "The following packages will be UPDATED:\n",
      "\n",
      "  ca-certificates                      2022.3.29-hca03da5_0 --> 2022.07.19-hca03da5_0\n",
      "  certifi                          2021.10.8-py39hca03da5_2 --> 2022.6.15-py39hca03da5_0\n",
      "  openssl                                 1.1.1n-h1a28f6b_0 --> 1.1.1q-h1a28f6b_0\n",
      "\n",
      "\n",
      "\n",
      "Downloading and Extracting Packages\n",
      "pytorch-1.10.2       | 30.6 MB   | ##################################### | 100% \n",
      "sacremoses-0.0.43    | 284 KB    | ##################################### | 100% \n",
      "huggingface_hub-0.2. | 52 KB     | ##################################### | 100% \n",
      "ninja-base-1.10.2    | 108 KB    | ##################################### | 100% \n",
      "importlib_metadata-4 | 4 KB      | ##################################### | 100% \n",
      "tokenizers-0.11.4    | 2.5 MB    | ##################################### | 100% \n",
      "stanza-1.4.0         | 392 KB    | ##################################### | 100% \n",
      "emoji-1.7.0          | 128 KB    | ##################################### | 100% \n",
      "typing-extensions-3. | 12 KB     | ##################################### | 100% \n",
      "ca-certificates-2022 | 124 KB    | ##################################### | 100% \n",
      "ninja-1.10.2         | 9 KB      | ##################################### | 100% \n",
      "transformers-4.18.0  | 2.9 MB    | ##################################### | 100% \n",
      "certifi-2022.6.15    | 153 KB    | ##################################### | 100% \n",
      "openssl-1.1.1q       | 2.2 MB    | ##################################### | 100% \n",
      "filelock-3.6.0       | 12 KB     | ##################################### | 100% \n",
      "Preparing transaction: done\n",
      "Verifying transaction: done\n",
      "Executing transaction: done\n"
     ]
    }
   ],
   "source": [
    "!conda install stanza -y"
   ]
  },
  {
   "cell_type": "code",
   "execution_count": 5,
   "id": "c0c45d18",
   "metadata": {},
   "outputs": [
    {
     "ename": "NameError",
     "evalue": "name 'stanza' is not defined",
     "output_type": "error",
     "traceback": [
      "\u001b[0;31m---------------------------------------------------------------------------\u001b[0m",
      "\u001b[0;31mNameError\u001b[0m                                 Traceback (most recent call last)",
      "Input \u001b[0;32mIn [5]\u001b[0m, in \u001b[0;36m<module>\u001b[0;34m\u001b[0m\n\u001b[0;32m----> 1\u001b[0m \u001b[43mstanza\u001b[49m\u001b[38;5;241m.\u001b[39mdownload(\u001b[38;5;124m'\u001b[39m\u001b[38;5;124men\u001b[39m\u001b[38;5;124m'\u001b[39m)\n",
      "\u001b[0;31mNameError\u001b[0m: name 'stanza' is not defined"
     ]
    }
   ],
   "source": []
  },
  {
   "cell_type": "code",
   "execution_count": 11,
   "id": "279a4930",
   "metadata": {},
   "outputs": [
    {
     "data": {
      "application/vnd.jupyter.widget-view+json": {
       "model_id": "a14cc5b1b601439997b1365e326c11d9",
       "version_major": 2,
       "version_minor": 0
      },
      "text/plain": [
       "Downloading https://raw.githubusercontent.com/stanfordnlp/stanza-resources/main/resources_1.4.0.json:   0%|   …"
      ]
     },
     "metadata": {},
     "output_type": "display_data"
    },
    {
     "name": "stderr",
     "output_type": "stream",
     "text": [
      "2022-07-31 18:41:52 INFO: Loading these models for language: en (English):\n",
      "========================\n",
      "| Processor | Package  |\n",
      "------------------------\n",
      "| tokenize  | combined |\n",
      "| pos       | combined |\n",
      "| lemma     | combined |\n",
      "| depparse  | combined |\n",
      "========================\n",
      "\n",
      "2022-07-31 18:41:52 INFO: Use device: cpu\n",
      "2022-07-31 18:41:52 INFO: Loading: tokenize\n",
      "2022-07-31 18:41:52 INFO: Loading: pos\n",
      "2022-07-31 18:41:52 INFO: Loading: lemma\n",
      "2022-07-31 18:41:52 INFO: Loading: depparse\n",
      "2022-07-31 18:41:52 INFO: Done loading processors!\n"
     ]
    }
   ],
   "source": [
    "import stanza\n",
    "import pandas as pd\n",
    "import numpy as np\n",
    "#stanza.download('en')\n",
    "\n",
    "nlp = stanza.Pipeline(lang='en', processors='tokenize,pos,lemma,depparse')\n",
    "\n",
    "\n"
   ]
  },
  {
   "cell_type": "code",
   "execution_count": 13,
   "id": "ad5f2bce",
   "metadata": {},
   "outputs": [],
   "source": [
    "data = pd.read_csv(\"/Users/abhijit/IGRI Files/test.txt\", header = None)\n"
   ]
  },
  {
   "cell_type": "code",
   "execution_count": 17,
   "id": "0108355e",
   "metadata": {},
   "outputs": [],
   "source": [
    "my_file = open(\"/Users/abhijit/IGRI Files/test.txt\", \"r\")\n",
    "  \n",
    "# reading the file\n",
    "data = my_file.read()\n",
    "  \n",
    "# replacing end of line('/n') with ' ' and\n",
    "# splitting the text it further when '.' is seen.\n",
    "\n",
    "  \n",
    "# printing the data\n",
    "#print(data_into_list)"
   ]
  },
  {
   "cell_type": "code",
   "execution_count": 20,
   "id": "b4b218f8",
   "metadata": {
    "scrolled": true
   },
   "outputs": [
    {
     "name": "stdout",
     "output_type": "stream",
     "text": [
      "['Any individual or company that employs individuals who physically work on, design, test, inspect, or install any part of a Fire Suppression System, including underground supply lines from public water lines to system risers and backflow preventers, must be registered', '  Individuals or companies performing work in accordance with Section 3', '1 on Fire Suppression Systems in commercial, civil, or residential occupancies must be registered as “FIRE SUPPRESSION SYSTEM CONTRACTOR', '”  An applicant must submit documentation of general liability insurance in the amount of at least $1 million that includes products and completed operations coverage related to the installation of suppression systems', ' The documentation submitted must identify inclusion and exclusions of the coverage', ' Contractors installing CPVC piping must provide evidence that their policy includes coverage for CPVC systems', '  A Residential Fire Suppression System Contractor must employ a RME Contractors without a RME on staff must demonstrate qualifications acceptable to the Division including education, training, and experience in the residential fire suppression industry', '  Individuals performing plan reviews on Fire Suppression Systems other than residential sprinkler systems must be certified as Fire Suppression Systems Inspector-Plan Reviewer', '  Individuals performing plan reviews or inspections for compliance of residential sprinkler systems must be certified as Fire Suppression Systems Inspector-Residential, Fire Suppression Systems-Inspector, or Fire Suppression Systems Inspector-Plan Reviewer', ' ']\n"
     ]
    }
   ],
   "source": [
    "data_into_list = data.replace('\\n', ' ').split(\".\")\n",
    "print(data_into_list)"
   ]
  },
  {
   "cell_type": "code",
   "execution_count": 30,
   "id": "4f482358",
   "metadata": {},
   "outputs": [],
   "source": [
    "features = pd.DataFrame(columns=[\"sid\",\"tid\",\"word\"])"
   ]
  },
  {
   "cell_type": "code",
   "execution_count": 31,
   "id": "fa85826b",
   "metadata": {},
   "outputs": [],
   "source": [
    "counter = 1\n",
    "for line in data_into_list:\n",
    "    doc = nlp(line.lower())\n",
    "\n",
    "    # for sentence in doc.sentences:\n",
    "    tokens = ['ROOT'] + [word.text for sentence in doc.sentences for word in sentence.words ]\n",
    "    words = ['ROOT'] + [word for sentence in doc.sentences for word in sentence.words]\n",
    "    for id_,word in enumerate(words):\n",
    "        if word == 'ROOT':\n",
    "            features.loc[len(features)] = [counter,id_,\"ROOT\"]\n",
    "        else:\n",
    "            features.loc[len(features)] = [counter,id_,word.text]\n",
    "\n",
    "    counter += 1\n",
    "            \n",
    "            \n",
    "    \n"
   ]
  },
  {
   "cell_type": "code",
   "execution_count": 37,
   "id": "eeb60dac",
   "metadata": {},
   "outputs": [
    {
     "name": "stdout",
     "output_type": "stream",
     "text": [
      "0\n"
     ]
    }
   ],
   "source": [
    "print(features.shape[0] - features.dropna().shape[0])\n"
   ]
  },
  {
   "cell_type": "code",
   "execution_count": 38,
   "id": "7839c259",
   "metadata": {},
   "outputs": [],
   "source": [
    "features.to_csv(\"/Users/abhijit/IGRI Files/test.csv\",index = False)"
   ]
  },
  {
   "cell_type": "code",
   "execution_count": null,
   "id": "fe469625",
   "metadata": {},
   "outputs": [],
   "source": []
  }
 ],
 "metadata": {
  "kernelspec": {
   "display_name": "Python 3 (ipykernel)",
   "language": "python",
   "name": "python3"
  },
  "language_info": {
   "codemirror_mode": {
    "name": "ipython",
    "version": 3
   },
   "file_extension": ".py",
   "mimetype": "text/x-python",
   "name": "python",
   "nbconvert_exporter": "python",
   "pygments_lexer": "ipython3",
   "version": "3.9.9"
  }
 },
 "nbformat": 4,
 "nbformat_minor": 5
}
